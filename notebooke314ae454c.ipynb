{
 "cells": [
  {
   "cell_type": "code",
   "execution_count": 1,
   "id": "executed-debut",
   "metadata": {
    "_cell_guid": "b1076dfc-b9ad-4769-8c92-a6c4dae69d19",
    "_uuid": "8f2839f25d086af736a60e9eeb907d3b93b6e0e5",
    "execution": {
     "iopub.execute_input": "2021-06-07T22:23:22.336209Z",
     "iopub.status.busy": "2021-06-07T22:23:22.333272Z",
     "iopub.status.idle": "2021-06-07T22:23:22.342547Z",
     "shell.execute_reply": "2021-06-07T22:23:22.341887Z"
    },
    "papermill": {
     "duration": 0.035536,
     "end_time": "2021-06-07T22:23:22.342722",
     "exception": false,
     "start_time": "2021-06-07T22:23:22.307186",
     "status": "completed"
    },
    "tags": []
   },
   "outputs": [
    {
     "name": "stdout",
     "output_type": "stream",
     "text": [
      "/kaggle/input/titanic/train.csv\n",
      "/kaggle/input/titanic/test.csv\n",
      "/kaggle/input/titanic/gender_submission.csv\n"
     ]
    }
   ],
   "source": [
    "# This Python 3 environment comes with many helpful analytics libraries installed\n",
    "# It is defined by the kaggle/python Docker image: https://github.com/kaggle/docker-python\n",
    "# For example, here's several helpful packages to load\n",
    "\n",
    "import numpy as np # linear algebra\n",
    "import pandas as pd # data processing, CSV file I/O (e.g. pd.read_csv)\n",
    "\n",
    "# Input data files are available in the read-only \"../input/\" directory\n",
    "# For example, running this (by clicking run or pressing Shift+Enter) will list all files under the input directory\n",
    "\n",
    "import os\n",
    "for dirname, _, filenames in os.walk('/kaggle/input'):\n",
    "    for filename in filenames:\n",
    "        print(os.path.join(dirname, filename))\n",
    "\n",
    "# You can write up to 20GB to the current directory (/kaggle/working/) that gets preserved as output when you create a version using \"Save & Run All\" \n",
    "# You can also write temporary files to /kaggle/temp/, but they won't be saved outside of the current session data=pd.read_csv('train.csv')\n"
   ]
  },
  {
   "cell_type": "code",
   "execution_count": 2,
   "id": "looking-wagon",
   "metadata": {
    "execution": {
     "iopub.execute_input": "2021-06-07T22:23:22.382901Z",
     "iopub.status.busy": "2021-06-07T22:23:22.382014Z",
     "iopub.status.idle": "2021-06-07T22:23:22.436794Z",
     "shell.execute_reply": "2021-06-07T22:23:22.436146Z"
    },
    "papermill": {
     "duration": 0.076495,
     "end_time": "2021-06-07T22:23:22.436958",
     "exception": false,
     "start_time": "2021-06-07T22:23:22.360463",
     "status": "completed"
    },
    "tags": []
   },
   "outputs": [
    {
     "data": {
      "text/html": [
       "<div>\n",
       "<style scoped>\n",
       "    .dataframe tbody tr th:only-of-type {\n",
       "        vertical-align: middle;\n",
       "    }\n",
       "\n",
       "    .dataframe tbody tr th {\n",
       "        vertical-align: top;\n",
       "    }\n",
       "\n",
       "    .dataframe thead th {\n",
       "        text-align: right;\n",
       "    }\n",
       "</style>\n",
       "<table border=\"1\" class=\"dataframe\">\n",
       "  <thead>\n",
       "    <tr style=\"text-align: right;\">\n",
       "      <th></th>\n",
       "      <th>PassengerId</th>\n",
       "      <th>Survived</th>\n",
       "      <th>Pclass</th>\n",
       "      <th>Name</th>\n",
       "      <th>Sex</th>\n",
       "      <th>Age</th>\n",
       "      <th>SibSp</th>\n",
       "      <th>Parch</th>\n",
       "      <th>Ticket</th>\n",
       "      <th>Fare</th>\n",
       "      <th>Cabin</th>\n",
       "      <th>Embarked</th>\n",
       "    </tr>\n",
       "  </thead>\n",
       "  <tbody>\n",
       "    <tr>\n",
       "      <th>0</th>\n",
       "      <td>1</td>\n",
       "      <td>0</td>\n",
       "      <td>3</td>\n",
       "      <td>Braund, Mr. Owen Harris</td>\n",
       "      <td>male</td>\n",
       "      <td>22.0</td>\n",
       "      <td>1</td>\n",
       "      <td>0</td>\n",
       "      <td>A/5 21171</td>\n",
       "      <td>7.2500</td>\n",
       "      <td>NaN</td>\n",
       "      <td>S</td>\n",
       "    </tr>\n",
       "    <tr>\n",
       "      <th>1</th>\n",
       "      <td>2</td>\n",
       "      <td>1</td>\n",
       "      <td>1</td>\n",
       "      <td>Cumings, Mrs. John Bradley (Florence Briggs Th...</td>\n",
       "      <td>female</td>\n",
       "      <td>38.0</td>\n",
       "      <td>1</td>\n",
       "      <td>0</td>\n",
       "      <td>PC 17599</td>\n",
       "      <td>71.2833</td>\n",
       "      <td>C85</td>\n",
       "      <td>C</td>\n",
       "    </tr>\n",
       "    <tr>\n",
       "      <th>2</th>\n",
       "      <td>3</td>\n",
       "      <td>1</td>\n",
       "      <td>3</td>\n",
       "      <td>Heikkinen, Miss. Laina</td>\n",
       "      <td>female</td>\n",
       "      <td>26.0</td>\n",
       "      <td>0</td>\n",
       "      <td>0</td>\n",
       "      <td>STON/O2. 3101282</td>\n",
       "      <td>7.9250</td>\n",
       "      <td>NaN</td>\n",
       "      <td>S</td>\n",
       "    </tr>\n",
       "    <tr>\n",
       "      <th>3</th>\n",
       "      <td>4</td>\n",
       "      <td>1</td>\n",
       "      <td>1</td>\n",
       "      <td>Futrelle, Mrs. Jacques Heath (Lily May Peel)</td>\n",
       "      <td>female</td>\n",
       "      <td>35.0</td>\n",
       "      <td>1</td>\n",
       "      <td>0</td>\n",
       "      <td>113803</td>\n",
       "      <td>53.1000</td>\n",
       "      <td>C123</td>\n",
       "      <td>S</td>\n",
       "    </tr>\n",
       "    <tr>\n",
       "      <th>4</th>\n",
       "      <td>5</td>\n",
       "      <td>0</td>\n",
       "      <td>3</td>\n",
       "      <td>Allen, Mr. William Henry</td>\n",
       "      <td>male</td>\n",
       "      <td>35.0</td>\n",
       "      <td>0</td>\n",
       "      <td>0</td>\n",
       "      <td>373450</td>\n",
       "      <td>8.0500</td>\n",
       "      <td>NaN</td>\n",
       "      <td>S</td>\n",
       "    </tr>\n",
       "  </tbody>\n",
       "</table>\n",
       "</div>"
      ],
      "text/plain": [
       "   PassengerId  Survived  Pclass  \\\n",
       "0            1         0       3   \n",
       "1            2         1       1   \n",
       "2            3         1       3   \n",
       "3            4         1       1   \n",
       "4            5         0       3   \n",
       "\n",
       "                                                Name     Sex   Age  SibSp  \\\n",
       "0                            Braund, Mr. Owen Harris    male  22.0      1   \n",
       "1  Cumings, Mrs. John Bradley (Florence Briggs Th...  female  38.0      1   \n",
       "2                             Heikkinen, Miss. Laina  female  26.0      0   \n",
       "3       Futrelle, Mrs. Jacques Heath (Lily May Peel)  female  35.0      1   \n",
       "4                           Allen, Mr. William Henry    male  35.0      0   \n",
       "\n",
       "   Parch            Ticket     Fare Cabin Embarked  \n",
       "0      0         A/5 21171   7.2500   NaN        S  \n",
       "1      0          PC 17599  71.2833   C85        C  \n",
       "2      0  STON/O2. 3101282   7.9250   NaN        S  \n",
       "3      0            113803  53.1000  C123        S  \n",
       "4      0            373450   8.0500   NaN        S  "
      ]
     },
     "execution_count": 2,
     "metadata": {},
     "output_type": "execute_result"
    }
   ],
   "source": [
    "data=pd.read_csv('/kaggle/input/titanic/train.csv')\n",
    "test=pd.read_csv('/kaggle/input/titanic/test.csv')\n",
    "data.head()\n",
    "\n"
   ]
  },
  {
   "cell_type": "markdown",
   "id": "favorite-consumption",
   "metadata": {
    "papermill": {
     "duration": 0.016458,
     "end_time": "2021-06-07T22:23:22.470615",
     "exception": false,
     "start_time": "2021-06-07T22:23:22.454157",
     "status": "completed"
    },
    "tags": []
   },
   "source": [
    "**count the sum of nan values in train data**"
   ]
  },
  {
   "cell_type": "code",
   "execution_count": 3,
   "id": "regional-exchange",
   "metadata": {
    "execution": {
     "iopub.execute_input": "2021-06-07T22:23:22.513202Z",
     "iopub.status.busy": "2021-06-07T22:23:22.512440Z",
     "iopub.status.idle": "2021-06-07T22:23:22.516591Z",
     "shell.execute_reply": "2021-06-07T22:23:22.517002Z",
     "shell.execute_reply.started": "2021-06-07T21:49:11.098752Z"
    },
    "papermill": {
     "duration": 0.029479,
     "end_time": "2021-06-07T22:23:22.517187",
     "exception": false,
     "start_time": "2021-06-07T22:23:22.487708",
     "status": "completed"
    },
    "tags": []
   },
   "outputs": [
    {
     "data": {
      "text/plain": [
       "PassengerId      0\n",
       "Survived         0\n",
       "Pclass           0\n",
       "Name             0\n",
       "Sex              0\n",
       "Age            177\n",
       "SibSp            0\n",
       "Parch            0\n",
       "Ticket           0\n",
       "Fare             0\n",
       "Cabin          687\n",
       "Embarked         2\n",
       "dtype: int64"
      ]
     },
     "execution_count": 3,
     "metadata": {},
     "output_type": "execute_result"
    }
   ],
   "source": [
    "data.isna().sum()\n"
   ]
  },
  {
   "cell_type": "markdown",
   "id": "economic-indicator",
   "metadata": {
    "papermill": {
     "duration": 0.016893,
     "end_time": "2021-06-07T22:23:22.551481",
     "exception": false,
     "start_time": "2021-06-07T22:23:22.534588",
     "status": "completed"
    },
    "tags": []
   },
   "source": [
    "**fill the the nan values of age in train and check the count again**"
   ]
  },
  {
   "cell_type": "code",
   "execution_count": 4,
   "id": "eastern-nancy",
   "metadata": {
    "execution": {
     "iopub.execute_input": "2021-06-07T22:23:22.592076Z",
     "iopub.status.busy": "2021-06-07T22:23:22.591362Z",
     "iopub.status.idle": "2021-06-07T22:23:22.607035Z",
     "shell.execute_reply": "2021-06-07T22:23:22.606485Z",
     "shell.execute_reply.started": "2021-06-07T21:53:36.273581Z"
    },
    "papermill": {
     "duration": 0.038243,
     "end_time": "2021-06-07T22:23:22.607168",
     "exception": false,
     "start_time": "2021-06-07T22:23:22.568925",
     "status": "completed"
    },
    "tags": []
   },
   "outputs": [
    {
     "data": {
      "text/plain": [
       "PassengerId      0\n",
       "Survived         0\n",
       "Pclass           0\n",
       "Name             0\n",
       "Sex              0\n",
       "Age              0\n",
       "SibSp            0\n",
       "Parch            0\n",
       "Ticket           0\n",
       "Fare             0\n",
       "Cabin          687\n",
       "Embarked         2\n",
       "dtype: int64"
      ]
     },
     "execution_count": 4,
     "metadata": {},
     "output_type": "execute_result"
    }
   ],
   "source": [
    "data.fillna(value = data.median(),inplace = True)\n",
    "data.isna().sum()"
   ]
  },
  {
   "cell_type": "markdown",
   "id": "deadly-assurance",
   "metadata": {
    "papermill": {
     "duration": 0.017603,
     "end_time": "2021-06-07T22:23:22.642038",
     "exception": false,
     "start_time": "2021-06-07T22:23:22.624435",
     "status": "completed"
    },
    "tags": []
   },
   "source": [
    "**count the nan values in test data**"
   ]
  },
  {
   "cell_type": "code",
   "execution_count": 5,
   "id": "proof-progress",
   "metadata": {
    "execution": {
     "iopub.execute_input": "2021-06-07T22:23:22.684260Z",
     "iopub.status.busy": "2021-06-07T22:23:22.683643Z",
     "iopub.status.idle": "2021-06-07T22:23:22.686906Z",
     "shell.execute_reply": "2021-06-07T22:23:22.686436Z"
    },
    "papermill": {
     "duration": 0.027348,
     "end_time": "2021-06-07T22:23:22.687075",
     "exception": false,
     "start_time": "2021-06-07T22:23:22.659727",
     "status": "completed"
    },
    "tags": []
   },
   "outputs": [
    {
     "data": {
      "text/plain": [
       "PassengerId      0\n",
       "Pclass           0\n",
       "Name             0\n",
       "Sex              0\n",
       "Age             86\n",
       "SibSp            0\n",
       "Parch            0\n",
       "Ticket           0\n",
       "Fare             1\n",
       "Cabin          327\n",
       "Embarked         0\n",
       "dtype: int64"
      ]
     },
     "execution_count": 5,
     "metadata": {},
     "output_type": "execute_result"
    }
   ],
   "source": [
    "test.isna().sum()"
   ]
  },
  {
   "cell_type": "markdown",
   "id": "timely-owner",
   "metadata": {
    "papermill": {
     "duration": 0.017467,
     "end_time": "2021-06-07T22:23:22.722062",
     "exception": false,
     "start_time": "2021-06-07T22:23:22.704595",
     "status": "completed"
    },
    "tags": []
   },
   "source": [
    "**fill the age **"
   ]
  },
  {
   "cell_type": "code",
   "execution_count": 6,
   "id": "visible-choir",
   "metadata": {
    "execution": {
     "iopub.execute_input": "2021-06-07T22:23:22.760305Z",
     "iopub.status.busy": "2021-06-07T22:23:22.759681Z",
     "iopub.status.idle": "2021-06-07T22:23:22.764806Z",
     "shell.execute_reply": "2021-06-07T22:23:22.765291Z"
    },
    "papermill": {
     "duration": 0.025707,
     "end_time": "2021-06-07T22:23:22.765454",
     "exception": false,
     "start_time": "2021-06-07T22:23:22.739747",
     "status": "completed"
    },
    "tags": []
   },
   "outputs": [],
   "source": [
    "test['Age'].fillna(value = test['Age'].median(),inplace = True)"
   ]
  },
  {
   "cell_type": "code",
   "execution_count": null,
   "id": "buried-dragon",
   "metadata": {
    "papermill": {
     "duration": 0.018507,
     "end_time": "2021-06-07T22:23:22.801723",
     "exception": false,
     "start_time": "2021-06-07T22:23:22.783216",
     "status": "completed"
    },
    "tags": []
   },
   "outputs": [],
   "source": []
  },
  {
   "cell_type": "code",
   "execution_count": 7,
   "id": "sunrise-costume",
   "metadata": {
    "execution": {
     "iopub.execute_input": "2021-06-07T22:23:22.847382Z",
     "iopub.status.busy": "2021-06-07T22:23:22.841431Z",
     "iopub.status.idle": "2021-06-07T22:23:22.850641Z",
     "shell.execute_reply": "2021-06-07T22:23:22.851125Z",
     "shell.execute_reply.started": "2021-06-07T21:59:52.542831Z"
    },
    "papermill": {
     "duration": 0.031594,
     "end_time": "2021-06-07T22:23:22.851327",
     "exception": false,
     "start_time": "2021-06-07T22:23:22.819733",
     "status": "completed"
    },
    "tags": []
   },
   "outputs": [
    {
     "data": {
      "text/plain": [
       "PassengerId      0\n",
       "Pclass           0\n",
       "Name             0\n",
       "Sex              0\n",
       "Age              0\n",
       "SibSp            0\n",
       "Parch            0\n",
       "Ticket           0\n",
       "Fare             1\n",
       "Cabin          327\n",
       "Embarked         0\n",
       "dtype: int64"
      ]
     },
     "execution_count": 7,
     "metadata": {},
     "output_type": "execute_result"
    }
   ],
   "source": [
    "test.isna().sum()"
   ]
  },
  {
   "cell_type": "markdown",
   "id": "thousand-option",
   "metadata": {
    "papermill": {
     "duration": 0.019456,
     "end_time": "2021-06-07T22:23:22.889989",
     "exception": false,
     "start_time": "2021-06-07T22:23:22.870533",
     "status": "completed"
    },
    "tags": []
   },
   "source": [
    "**get the class of the person of nan value in fare**"
   ]
  },
  {
   "cell_type": "code",
   "execution_count": 8,
   "id": "incorporated-bookmark",
   "metadata": {
    "execution": {
     "iopub.execute_input": "2021-06-07T22:23:22.931552Z",
     "iopub.status.busy": "2021-06-07T22:23:22.930773Z",
     "iopub.status.idle": "2021-06-07T22:23:22.957829Z",
     "shell.execute_reply": "2021-06-07T22:23:22.957312Z",
     "shell.execute_reply.started": "2021-06-07T22:00:16.069222Z"
    },
    "papermill": {
     "duration": 0.049828,
     "end_time": "2021-06-07T22:23:22.958014",
     "exception": false,
     "start_time": "2021-06-07T22:23:22.908186",
     "status": "completed"
    },
    "tags": []
   },
   "outputs": [
    {
     "name": "stdout",
     "output_type": "stream",
     "text": [
      "3\n"
     ]
    }
   ],
   "source": [
    "row_of_data=test.loc[test.Fare.isna()== True]\n",
    "pclass=int(row_of_data['Pclass'])\n",
    "print(pclass)"
   ]
  },
  {
   "cell_type": "markdown",
   "id": "crucial-genome",
   "metadata": {
    "papermill": {
     "duration": 0.020188,
     "end_time": "2021-06-07T22:23:22.998135",
     "exception": false,
     "start_time": "2021-06-07T22:23:22.977947",
     "status": "completed"
    },
    "tags": []
   },
   "source": [
    "**fill the fare nan value**"
   ]
  },
  {
   "cell_type": "code",
   "execution_count": 9,
   "id": "standing-spiritual",
   "metadata": {
    "execution": {
     "iopub.execute_input": "2021-06-07T22:23:23.037862Z",
     "iopub.status.busy": "2021-06-07T22:23:23.037291Z",
     "iopub.status.idle": "2021-06-07T22:23:23.043402Z",
     "shell.execute_reply": "2021-06-07T22:23:23.043897Z",
     "shell.execute_reply.started": "2021-06-07T22:13:01.508852Z"
    },
    "papermill": {
     "duration": 0.027431,
     "end_time": "2021-06-07T22:23:23.044081",
     "exception": false,
     "start_time": "2021-06-07T22:23:23.016650",
     "status": "completed"
    },
    "tags": []
   },
   "outputs": [],
   "source": [
    "fare_replace = test.loc[test.Pclass == 3].Fare.median()\n",
    "test['Fare'].fillna(value = fare_replace,inplace = True)\n"
   ]
  },
  {
   "cell_type": "markdown",
   "id": "expanded-contamination",
   "metadata": {
    "papermill": {
     "duration": 0.019475,
     "end_time": "2021-06-07T22:23:23.082466",
     "exception": false,
     "start_time": "2021-06-07T22:23:23.062991",
     "status": "completed"
    },
    "tags": []
   },
   "source": [
    "**split the train data into x,y**"
   ]
  },
  {
   "cell_type": "code",
   "execution_count": 10,
   "id": "healthy-receipt",
   "metadata": {
    "execution": {
     "iopub.execute_input": "2021-06-07T22:23:23.124658Z",
     "iopub.status.busy": "2021-06-07T22:23:23.124044Z",
     "iopub.status.idle": "2021-06-07T22:23:23.130213Z",
     "shell.execute_reply": "2021-06-07T22:23:23.130694Z",
     "shell.execute_reply.started": "2021-06-07T22:14:34.748861Z"
    },
    "papermill": {
     "duration": 0.027949,
     "end_time": "2021-06-07T22:23:23.130887",
     "exception": false,
     "start_time": "2021-06-07T22:23:23.102938",
     "status": "completed"
    },
    "tags": []
   },
   "outputs": [],
   "source": [
    "y = data.iloc[:, 1].values\n",
    "x = data.iloc[:,data.columns != 'Survived' ].values"
   ]
  },
  {
   "cell_type": "markdown",
   "id": "coordinated-drove",
   "metadata": {
    "papermill": {
     "duration": 0.019175,
     "end_time": "2021-06-07T22:23:23.170562",
     "exception": false,
     "start_time": "2021-06-07T22:23:23.151387",
     "status": "completed"
    },
    "tags": []
   },
   "source": []
  },
  {
   "cell_type": "code",
   "execution_count": 11,
   "id": "impaired-administration",
   "metadata": {
    "execution": {
     "iopub.execute_input": "2021-06-07T22:23:23.211780Z",
     "iopub.status.busy": "2021-06-07T22:23:23.211067Z",
     "iopub.status.idle": "2021-06-07T22:23:23.217048Z",
     "shell.execute_reply": "2021-06-07T22:23:23.217513Z",
     "shell.execute_reply.started": "2021-06-07T22:18:44.669565Z"
    },
    "papermill": {
     "duration": 0.028369,
     "end_time": "2021-06-07T22:23:23.217685",
     "exception": false,
     "start_time": "2021-06-07T22:23:23.189316",
     "status": "completed"
    },
    "tags": []
   },
   "outputs": [],
   "source": [
    "# the variables names\n",
    "variables = ['PassengerId','Pclass', 'Name', 'Sex', 'Age', 'SibSp',\n",
    "       'Parch', 'Ticket', 'Fare', 'Cabin', 'Embarked']\n",
    "\n",
    "\n",
    "# convert x into dataframe\n",
    "x  = pd.DataFrame(x, columns = variables)\n",
    "\n",
    "# convert test data into dataframe\n",
    "x_test  = pd.DataFrame(test, columns = variables)"
   ]
  },
  {
   "cell_type": "markdown",
   "id": "alone-invention",
   "metadata": {
    "papermill": {
     "duration": 0.0181,
     "end_time": "2021-06-07T22:23:23.254046",
     "exception": false,
     "start_time": "2021-06-07T22:23:23.235946",
     "status": "completed"
    },
    "tags": []
   },
   "source": [
    "**drop the unnescessary columns**"
   ]
  },
  {
   "cell_type": "code",
   "execution_count": 12,
   "id": "steady-toronto",
   "metadata": {
    "execution": {
     "iopub.execute_input": "2021-06-07T22:23:23.294471Z",
     "iopub.status.busy": "2021-06-07T22:23:23.293822Z",
     "iopub.status.idle": "2021-06-07T22:23:23.300003Z",
     "shell.execute_reply": "2021-06-07T22:23:23.300542Z",
     "shell.execute_reply.started": "2021-06-07T22:19:09.551272Z"
    },
    "papermill": {
     "duration": 0.028283,
     "end_time": "2021-06-07T22:23:23.300724",
     "exception": false,
     "start_time": "2021-06-07T22:23:23.272441",
     "status": "completed"
    },
    "tags": []
   },
   "outputs": [],
   "source": [
    "# drop the non useful columns from train data \n",
    "x=x.drop(['Name','Cabin','Ticket','PassengerId'], axis = 1)\n",
    "x=x.drop(['Embarked'], axis = 1)"
   ]
  },
  {
   "cell_type": "code",
   "execution_count": 13,
   "id": "north-machine",
   "metadata": {
    "execution": {
     "iopub.execute_input": "2021-06-07T22:23:23.345223Z",
     "iopub.status.busy": "2021-06-07T22:23:23.344620Z",
     "iopub.status.idle": "2021-06-07T22:23:23.346574Z",
     "shell.execute_reply": "2021-06-07T22:23:23.347016Z",
     "shell.execute_reply.started": "2021-06-07T22:19:12.948039Z"
    },
    "papermill": {
     "duration": 0.027861,
     "end_time": "2021-06-07T22:23:23.347190",
     "exception": false,
     "start_time": "2021-06-07T22:23:23.319329",
     "status": "completed"
    },
    "tags": []
   },
   "outputs": [],
   "source": [
    "\n",
    "# drop the non useful columns from test data also\n",
    "x_test=x_test.drop(['Name','Cabin','Ticket','Embarked'], axis = 1)\n",
    "passengerid=x_test.iloc[:,0]\n",
    "x_test=x_test.drop(['PassengerId'], axis = 1)"
   ]
  },
  {
   "cell_type": "markdown",
   "id": "forced-lemon",
   "metadata": {
    "papermill": {
     "duration": 0.018193,
     "end_time": "2021-06-07T22:23:23.383951",
     "exception": false,
     "start_time": "2021-06-07T22:23:23.365758",
     "status": "completed"
    },
    "tags": []
   },
   "source": [
    "**encode male=1 , female=0 in both test and train data**"
   ]
  },
  {
   "cell_type": "code",
   "execution_count": 14,
   "id": "furnished-recall",
   "metadata": {
    "execution": {
     "iopub.execute_input": "2021-06-07T22:23:23.424266Z",
     "iopub.status.busy": "2021-06-07T22:23:23.423593Z",
     "iopub.status.idle": "2021-06-07T22:23:23.673250Z",
     "shell.execute_reply": "2021-06-07T22:23:23.672617Z",
     "shell.execute_reply.started": "2021-06-07T22:19:59.756448Z"
    },
    "papermill": {
     "duration": 0.270828,
     "end_time": "2021-06-07T22:23:23.673388",
     "exception": false,
     "start_time": "2021-06-07T22:23:23.402560",
     "status": "completed"
    },
    "tags": []
   },
   "outputs": [
    {
     "name": "stderr",
     "output_type": "stream",
     "text": [
      "/opt/conda/lib/python3.7/site-packages/ipykernel_launcher.py:9: SettingWithCopyWarning: \n",
      "A value is trying to be set on a copy of a slice from a DataFrame\n",
      "\n",
      "See the caveats in the documentation: https://pandas.pydata.org/pandas-docs/stable/user_guide/indexing.html#returning-a-view-versus-a-copy\n",
      "  if __name__ == '__main__':\n",
      "/opt/conda/lib/python3.7/site-packages/ipykernel_launcher.py:11: SettingWithCopyWarning: \n",
      "A value is trying to be set on a copy of a slice from a DataFrame\n",
      "\n",
      "See the caveats in the documentation: https://pandas.pydata.org/pandas-docs/stable/user_guide/indexing.html#returning-a-view-versus-a-copy\n",
      "  # This is added back by InteractiveShellApp.init_path()\n"
     ]
    }
   ],
   "source": [
    "\n",
    "for i in range(len(x['Sex'])):\n",
    "    if (x['Sex'][i]=='male'):\n",
    "        x['Sex'][i]=1\n",
    "    else:\n",
    "        x['Sex'][i]=0 \n",
    "        \n",
    "for i in range(len(x_test['Sex'])):\n",
    "    if (x_test['Sex'][i]=='male'):\n",
    "        x_test['Sex'][i]=int(1)\n",
    "    else:\n",
    "        x_test['Sex'][i]=int(0)  "
   ]
  },
  {
   "cell_type": "markdown",
   "id": "aware-helena",
   "metadata": {
    "papermill": {
     "duration": 0.020128,
     "end_time": "2021-06-07T22:23:23.715059",
     "exception": false,
     "start_time": "2021-06-07T22:23:23.694931",
     "status": "completed"
    },
    "tags": []
   },
   "source": [
    "**nitiate the random forrest regression  model  and fit it to the train data**"
   ]
  },
  {
   "cell_type": "code",
   "execution_count": null,
   "id": "trying-essay",
   "metadata": {
    "papermill": {
     "duration": 0.0189,
     "end_time": "2021-06-07T22:23:23.753058",
     "exception": false,
     "start_time": "2021-06-07T22:23:23.734158",
     "status": "completed"
    },
    "tags": []
   },
   "outputs": [],
   "source": []
  },
  {
   "cell_type": "code",
   "execution_count": 15,
   "id": "private-studio",
   "metadata": {
    "execution": {
     "iopub.execute_input": "2021-06-07T22:23:23.798144Z",
     "iopub.status.busy": "2021-06-07T22:23:23.797339Z",
     "iopub.status.idle": "2021-06-07T22:23:28.236321Z",
     "shell.execute_reply": "2021-06-07T22:23:28.235669Z",
     "shell.execute_reply.started": "2021-06-07T22:21:02.021888Z"
    },
    "papermill": {
     "duration": 4.464633,
     "end_time": "2021-06-07T22:23:28.236472",
     "exception": false,
     "start_time": "2021-06-07T22:23:23.771839",
     "status": "completed"
    },
    "tags": []
   },
   "outputs": [
    {
     "data": {
      "text/plain": [
       "RandomForestClassifier(max_depth=10, min_samples_leaf=6, min_samples_split=6,\n",
       "                       n_estimators=1750)"
      ]
     },
     "execution_count": 15,
     "metadata": {},
     "output_type": "execute_result"
    }
   ],
   "source": [
    "\n",
    "\n",
    "from sklearn.ensemble import RandomForestClassifier\n",
    "classifier = RandomForestClassifier(max_depth=10, min_samples_leaf=6, min_samples_split=6,n_estimators=1750)\n",
    "classifier.fit(x, y)"
   ]
  },
  {
   "cell_type": "markdown",
   "id": "decent-ratio",
   "metadata": {
    "papermill": {
     "duration": 0.020408,
     "end_time": "2021-06-07T22:23:28.276711",
     "exception": false,
     "start_time": "2021-06-07T22:23:28.256303",
     "status": "completed"
    },
    "tags": []
   },
   "source": [
    "**predict the (survive) column  for x_test data**"
   ]
  },
  {
   "cell_type": "code",
   "execution_count": 16,
   "id": "former-round",
   "metadata": {
    "execution": {
     "iopub.execute_input": "2021-06-07T22:23:28.324573Z",
     "iopub.status.busy": "2021-06-07T22:23:28.323930Z",
     "iopub.status.idle": "2021-06-07T22:23:28.560848Z",
     "shell.execute_reply": "2021-06-07T22:23:28.560223Z",
     "shell.execute_reply.started": "2021-06-07T22:21:47.584350Z"
    },
    "papermill": {
     "duration": 0.26334,
     "end_time": "2021-06-07T22:23:28.561013",
     "exception": false,
     "start_time": "2021-06-07T22:23:28.297673",
     "status": "completed"
    },
    "tags": []
   },
   "outputs": [],
   "source": [
    " \n",
    "y_pred = classifier.predict(x_test)"
   ]
  },
  {
   "cell_type": "markdown",
   "id": "complicated-whale",
   "metadata": {
    "papermill": {
     "duration": 0.020227,
     "end_time": "2021-06-07T22:23:28.600366",
     "exception": false,
     "start_time": "2021-06-07T22:23:28.580139",
     "status": "completed"
    },
    "tags": []
   },
   "source": [
    "**make a dataframe and add 2 columns : passenger id , survived (predicted)**"
   ]
  },
  {
   "cell_type": "code",
   "execution_count": 17,
   "id": "coastal-occupation",
   "metadata": {
    "execution": {
     "iopub.execute_input": "2021-06-07T22:23:28.646455Z",
     "iopub.status.busy": "2021-06-07T22:23:28.645808Z",
     "iopub.status.idle": "2021-06-07T22:23:28.649273Z",
     "shell.execute_reply": "2021-06-07T22:23:28.648659Z",
     "shell.execute_reply.started": "2021-06-07T22:22:15.767749Z"
    },
    "papermill": {
     "duration": 0.029077,
     "end_time": "2021-06-07T22:23:28.649435",
     "exception": false,
     "start_time": "2021-06-07T22:23:28.620358",
     "status": "completed"
    },
    "tags": []
   },
   "outputs": [],
   "source": [
    "\n",
    "predections = pd.DataFrame()\n",
    "predections['PassengerId']=passengerid\n",
    "predections['Survived']=y_pred"
   ]
  },
  {
   "cell_type": "markdown",
   "id": "divided-insurance",
   "metadata": {
    "papermill": {
     "duration": 0.019429,
     "end_time": "2021-06-07T22:23:28.688362",
     "exception": false,
     "start_time": "2021-06-07T22:23:28.668933",
     "status": "completed"
    },
    "tags": []
   },
   "source": [
    "**save it to csv**\n"
   ]
  },
  {
   "cell_type": "code",
   "execution_count": 18,
   "id": "expected-pharmacology",
   "metadata": {
    "execution": {
     "iopub.execute_input": "2021-06-07T22:23:28.734669Z",
     "iopub.status.busy": "2021-06-07T22:23:28.733661Z",
     "iopub.status.idle": "2021-06-07T22:23:28.740049Z",
     "shell.execute_reply": "2021-06-07T22:23:28.740553Z",
     "shell.execute_reply.started": "2021-06-07T22:22:59.285705Z"
    },
    "papermill": {
     "duration": 0.031392,
     "end_time": "2021-06-07T22:23:28.740722",
     "exception": false,
     "start_time": "2021-06-07T22:23:28.709330",
     "status": "completed"
    },
    "tags": []
   },
   "outputs": [],
   "source": [
    "predections.to_csv(\"pedictions.csv\",index= False)"
   ]
  },
  {
   "cell_type": "markdown",
   "id": "written-exhaust",
   "metadata": {
    "papermill": {
     "duration": 0.019996,
     "end_time": "2021-06-07T22:23:28.780292",
     "exception": false,
     "start_time": "2021-06-07T22:23:28.760296",
     "status": "completed"
    },
    "tags": []
   },
   "source": []
  }
 ],
 "metadata": {
  "kernelspec": {
   "display_name": "Python 3",
   "language": "python",
   "name": "python3"
  },
  "language_info": {
   "codemirror_mode": {
    "name": "ipython",
    "version": 3
   },
   "file_extension": ".py",
   "mimetype": "text/x-python",
   "name": "python",
   "nbconvert_exporter": "python",
   "pygments_lexer": "ipython3",
   "version": "3.7.10"
  },
  "papermill": {
   "default_parameters": {},
   "duration": 15.719888,
   "end_time": "2021-06-07T22:23:29.609982",
   "environment_variables": {},
   "exception": null,
   "input_path": "__notebook__.ipynb",
   "output_path": "__notebook__.ipynb",
   "parameters": {},
   "start_time": "2021-06-07T22:23:13.890094",
   "version": "2.3.3"
  }
 },
 "nbformat": 4,
 "nbformat_minor": 5
}
