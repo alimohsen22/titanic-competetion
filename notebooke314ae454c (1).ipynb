{
 "cells": [
  {
   "cell_type": "code",
   "execution_count": 1,
   "id": "tender-seeker",
   "metadata": {
    "_cell_guid": "b1076dfc-b9ad-4769-8c92-a6c4dae69d19",
    "_uuid": "8f2839f25d086af736a60e9eeb907d3b93b6e0e5",
    "execution": {
     "iopub.execute_input": "2021-06-12T09:35:16.897191Z",
     "iopub.status.busy": "2021-06-12T09:35:16.895982Z",
     "iopub.status.idle": "2021-06-12T09:35:16.907539Z",
     "shell.execute_reply": "2021-06-12T09:35:16.908081Z",
     "shell.execute_reply.started": "2021-06-12T09:26:39.394097Z"
    },
    "papermill": {
     "duration": 0.04446,
     "end_time": "2021-06-12T09:35:16.908377",
     "exception": false,
     "start_time": "2021-06-12T09:35:16.863917",
     "status": "completed"
    },
    "tags": []
   },
   "outputs": [
    {
     "name": "stdout",
     "output_type": "stream",
     "text": [
      "/kaggle/input/titanic/train.csv\n",
      "/kaggle/input/titanic/test.csv\n",
      "/kaggle/input/titanic/gender_submission.csv\n"
     ]
    }
   ],
   "source": [
    "# This Python 3 environment comes with many helpful analytics libraries installed\n",
    "# It is defined by the kaggle/python Docker image: https://github.com/kaggle/docker-python\n",
    "# For example, here's several helpful packages to load\n",
    "\n",
    "import numpy as np # linear algebra\n",
    "import pandas as pd # data processing, CSV file I/O (e.g. pd.read_csv)\n",
    "\n",
    "# Input data files are available in the read-only \"../input/\" directory\n",
    "# For example, running this (by clicking run or pressing Shift+Enter) will list all files under the input directory\n",
    "\n",
    "import os\n",
    "for dirname, _, filenames in os.walk('/kaggle/input'):\n",
    "    for filename in filenames:\n",
    "        print(os.path.join(dirname, filename))\n",
    "\n",
    "# You can write up to 20GB to the current directory (/kaggle/working/) that gets preserved as output when you create a version using \"Save & Run All\" \n",
    "# You can also write temporary files to /kaggle/temp/, but they won't be saved outside of the current session data=pd.read_csv('train.csv')\n"
   ]
  },
  {
   "cell_type": "code",
   "execution_count": 2,
   "id": "dynamic-rendering",
   "metadata": {
    "execution": {
     "iopub.execute_input": "2021-06-12T09:35:16.968315Z",
     "iopub.status.busy": "2021-06-12T09:35:16.967315Z",
     "iopub.status.idle": "2021-06-12T09:35:17.034318Z",
     "shell.execute_reply": "2021-06-12T09:35:17.033754Z",
     "shell.execute_reply.started": "2021-06-12T09:26:39.430115Z"
    },
    "papermill": {
     "duration": 0.097583,
     "end_time": "2021-06-12T09:35:17.034469",
     "exception": false,
     "start_time": "2021-06-12T09:35:16.936886",
     "status": "completed"
    },
    "tags": []
   },
   "outputs": [
    {
     "data": {
      "text/html": [
       "<div>\n",
       "<style scoped>\n",
       "    .dataframe tbody tr th:only-of-type {\n",
       "        vertical-align: middle;\n",
       "    }\n",
       "\n",
       "    .dataframe tbody tr th {\n",
       "        vertical-align: top;\n",
       "    }\n",
       "\n",
       "    .dataframe thead th {\n",
       "        text-align: right;\n",
       "    }\n",
       "</style>\n",
       "<table border=\"1\" class=\"dataframe\">\n",
       "  <thead>\n",
       "    <tr style=\"text-align: right;\">\n",
       "      <th></th>\n",
       "      <th>PassengerId</th>\n",
       "      <th>Survived</th>\n",
       "      <th>Pclass</th>\n",
       "      <th>Name</th>\n",
       "      <th>Sex</th>\n",
       "      <th>Age</th>\n",
       "      <th>SibSp</th>\n",
       "      <th>Parch</th>\n",
       "      <th>Ticket</th>\n",
       "      <th>Fare</th>\n",
       "      <th>Cabin</th>\n",
       "      <th>Embarked</th>\n",
       "    </tr>\n",
       "  </thead>\n",
       "  <tbody>\n",
       "    <tr>\n",
       "      <th>0</th>\n",
       "      <td>1</td>\n",
       "      <td>0</td>\n",
       "      <td>3</td>\n",
       "      <td>Braund, Mr. Owen Harris</td>\n",
       "      <td>male</td>\n",
       "      <td>22.0</td>\n",
       "      <td>1</td>\n",
       "      <td>0</td>\n",
       "      <td>A/5 21171</td>\n",
       "      <td>7.2500</td>\n",
       "      <td>NaN</td>\n",
       "      <td>S</td>\n",
       "    </tr>\n",
       "    <tr>\n",
       "      <th>1</th>\n",
       "      <td>2</td>\n",
       "      <td>1</td>\n",
       "      <td>1</td>\n",
       "      <td>Cumings, Mrs. John Bradley (Florence Briggs Th...</td>\n",
       "      <td>female</td>\n",
       "      <td>38.0</td>\n",
       "      <td>1</td>\n",
       "      <td>0</td>\n",
       "      <td>PC 17599</td>\n",
       "      <td>71.2833</td>\n",
       "      <td>C85</td>\n",
       "      <td>C</td>\n",
       "    </tr>\n",
       "    <tr>\n",
       "      <th>2</th>\n",
       "      <td>3</td>\n",
       "      <td>1</td>\n",
       "      <td>3</td>\n",
       "      <td>Heikkinen, Miss. Laina</td>\n",
       "      <td>female</td>\n",
       "      <td>26.0</td>\n",
       "      <td>0</td>\n",
       "      <td>0</td>\n",
       "      <td>STON/O2. 3101282</td>\n",
       "      <td>7.9250</td>\n",
       "      <td>NaN</td>\n",
       "      <td>S</td>\n",
       "    </tr>\n",
       "    <tr>\n",
       "      <th>3</th>\n",
       "      <td>4</td>\n",
       "      <td>1</td>\n",
       "      <td>1</td>\n",
       "      <td>Futrelle, Mrs. Jacques Heath (Lily May Peel)</td>\n",
       "      <td>female</td>\n",
       "      <td>35.0</td>\n",
       "      <td>1</td>\n",
       "      <td>0</td>\n",
       "      <td>113803</td>\n",
       "      <td>53.1000</td>\n",
       "      <td>C123</td>\n",
       "      <td>S</td>\n",
       "    </tr>\n",
       "    <tr>\n",
       "      <th>4</th>\n",
       "      <td>5</td>\n",
       "      <td>0</td>\n",
       "      <td>3</td>\n",
       "      <td>Allen, Mr. William Henry</td>\n",
       "      <td>male</td>\n",
       "      <td>35.0</td>\n",
       "      <td>0</td>\n",
       "      <td>0</td>\n",
       "      <td>373450</td>\n",
       "      <td>8.0500</td>\n",
       "      <td>NaN</td>\n",
       "      <td>S</td>\n",
       "    </tr>\n",
       "  </tbody>\n",
       "</table>\n",
       "</div>"
      ],
      "text/plain": [
       "   PassengerId  Survived  Pclass  \\\n",
       "0            1         0       3   \n",
       "1            2         1       1   \n",
       "2            3         1       3   \n",
       "3            4         1       1   \n",
       "4            5         0       3   \n",
       "\n",
       "                                                Name     Sex   Age  SibSp  \\\n",
       "0                            Braund, Mr. Owen Harris    male  22.0      1   \n",
       "1  Cumings, Mrs. John Bradley (Florence Briggs Th...  female  38.0      1   \n",
       "2                             Heikkinen, Miss. Laina  female  26.0      0   \n",
       "3       Futrelle, Mrs. Jacques Heath (Lily May Peel)  female  35.0      1   \n",
       "4                           Allen, Mr. William Henry    male  35.0      0   \n",
       "\n",
       "   Parch            Ticket     Fare Cabin Embarked  \n",
       "0      0         A/5 21171   7.2500   NaN        S  \n",
       "1      0          PC 17599  71.2833   C85        C  \n",
       "2      0  STON/O2. 3101282   7.9250   NaN        S  \n",
       "3      0            113803  53.1000  C123        S  \n",
       "4      0            373450   8.0500   NaN        S  "
      ]
     },
     "execution_count": 2,
     "metadata": {},
     "output_type": "execute_result"
    }
   ],
   "source": [
    "data=pd.read_csv('/kaggle/input/titanic/train.csv')\n",
    "test=pd.read_csv('/kaggle/input/titanic/test.csv')\n",
    "data.head()\n",
    "\n"
   ]
  },
  {
   "cell_type": "markdown",
   "id": "western-celtic",
   "metadata": {
    "papermill": {
     "duration": 0.027599,
     "end_time": "2021-06-12T09:35:17.090597",
     "exception": false,
     "start_time": "2021-06-12T09:35:17.062998",
     "status": "completed"
    },
    "tags": []
   },
   "source": [
    "# model preprocessing\n"
   ]
  },
  {
   "cell_type": "markdown",
   "id": "worse-halloween",
   "metadata": {
    "papermill": {
     "duration": 0.028528,
     "end_time": "2021-06-12T09:35:17.147182",
     "exception": false,
     "start_time": "2021-06-12T09:35:17.118654",
     "status": "completed"
    },
    "tags": []
   },
   "source": [
    "**count the sum of nan values in train data**"
   ]
  },
  {
   "cell_type": "code",
   "execution_count": 3,
   "id": "reported-accuracy",
   "metadata": {
    "execution": {
     "iopub.execute_input": "2021-06-12T09:35:17.213658Z",
     "iopub.status.busy": "2021-06-12T09:35:17.212995Z",
     "iopub.status.idle": "2021-06-12T09:35:17.217232Z",
     "shell.execute_reply": "2021-06-12T09:35:17.216592Z",
     "shell.execute_reply.started": "2021-06-12T09:26:39.463516Z"
    },
    "papermill": {
     "duration": 0.04077,
     "end_time": "2021-06-12T09:35:17.217365",
     "exception": false,
     "start_time": "2021-06-12T09:35:17.176595",
     "status": "completed"
    },
    "tags": []
   },
   "outputs": [
    {
     "data": {
      "text/plain": [
       "PassengerId      0\n",
       "Survived         0\n",
       "Pclass           0\n",
       "Name             0\n",
       "Sex              0\n",
       "Age            177\n",
       "SibSp            0\n",
       "Parch            0\n",
       "Ticket           0\n",
       "Fare             0\n",
       "Cabin          687\n",
       "Embarked         2\n",
       "dtype: int64"
      ]
     },
     "execution_count": 3,
     "metadata": {},
     "output_type": "execute_result"
    }
   ],
   "source": [
    "data.isna().sum()\n"
   ]
  },
  {
   "cell_type": "markdown",
   "id": "horizontal-width",
   "metadata": {
    "papermill": {
     "duration": 0.028361,
     "end_time": "2021-06-12T09:35:17.274470",
     "exception": false,
     "start_time": "2021-06-12T09:35:17.246109",
     "status": "completed"
    },
    "tags": []
   },
   "source": [
    "**fill the the nan values of age in train and check the count again**"
   ]
  },
  {
   "cell_type": "code",
   "execution_count": 4,
   "id": "accurate-thriller",
   "metadata": {
    "execution": {
     "iopub.execute_input": "2021-06-12T09:35:17.337451Z",
     "iopub.status.busy": "2021-06-12T09:35:17.336581Z",
     "iopub.status.idle": "2021-06-12T09:35:17.353536Z",
     "shell.execute_reply": "2021-06-12T09:35:17.354020Z",
     "shell.execute_reply.started": "2021-06-12T09:26:39.494858Z"
    },
    "papermill": {
     "duration": 0.051345,
     "end_time": "2021-06-12T09:35:17.354195",
     "exception": false,
     "start_time": "2021-06-12T09:35:17.302850",
     "status": "completed"
    },
    "tags": []
   },
   "outputs": [
    {
     "data": {
      "text/plain": [
       "PassengerId      0\n",
       "Survived         0\n",
       "Pclass           0\n",
       "Name             0\n",
       "Sex              0\n",
       "Age              0\n",
       "SibSp            0\n",
       "Parch            0\n",
       "Ticket           0\n",
       "Fare             0\n",
       "Cabin          687\n",
       "Embarked         2\n",
       "dtype: int64"
      ]
     },
     "execution_count": 4,
     "metadata": {},
     "output_type": "execute_result"
    }
   ],
   "source": [
    "data.fillna(value = data.median(),inplace = True)\n",
    "data.isna().sum()"
   ]
  },
  {
   "cell_type": "markdown",
   "id": "employed-winner",
   "metadata": {
    "papermill": {
     "duration": 0.028494,
     "end_time": "2021-06-12T09:35:17.411522",
     "exception": false,
     "start_time": "2021-06-12T09:35:17.383028",
     "status": "completed"
    },
    "tags": []
   },
   "source": [
    "**count the nan values in test data**"
   ]
  },
  {
   "cell_type": "code",
   "execution_count": 5,
   "id": "unlike-farming",
   "metadata": {
    "execution": {
     "iopub.execute_input": "2021-06-12T09:35:17.473205Z",
     "iopub.status.busy": "2021-06-12T09:35:17.472257Z",
     "iopub.status.idle": "2021-06-12T09:35:17.480093Z",
     "shell.execute_reply": "2021-06-12T09:35:17.480540Z",
     "shell.execute_reply.started": "2021-06-12T09:26:39.526907Z"
    },
    "papermill": {
     "duration": 0.040266,
     "end_time": "2021-06-12T09:35:17.480718",
     "exception": false,
     "start_time": "2021-06-12T09:35:17.440452",
     "status": "completed"
    },
    "tags": []
   },
   "outputs": [
    {
     "data": {
      "text/plain": [
       "PassengerId      0\n",
       "Pclass           0\n",
       "Name             0\n",
       "Sex              0\n",
       "Age             86\n",
       "SibSp            0\n",
       "Parch            0\n",
       "Ticket           0\n",
       "Fare             1\n",
       "Cabin          327\n",
       "Embarked         0\n",
       "dtype: int64"
      ]
     },
     "execution_count": 5,
     "metadata": {},
     "output_type": "execute_result"
    }
   ],
   "source": [
    "test.isna().sum()"
   ]
  },
  {
   "cell_type": "markdown",
   "id": "cellular-costume",
   "metadata": {
    "papermill": {
     "duration": 0.029451,
     "end_time": "2021-06-12T09:35:17.539229",
     "exception": false,
     "start_time": "2021-06-12T09:35:17.509778",
     "status": "completed"
    },
    "tags": []
   },
   "source": [
    "**fill the age **"
   ]
  },
  {
   "cell_type": "code",
   "execution_count": 6,
   "id": "disabled-colony",
   "metadata": {
    "execution": {
     "iopub.execute_input": "2021-06-12T09:35:17.601623Z",
     "iopub.status.busy": "2021-06-12T09:35:17.600634Z",
     "iopub.status.idle": "2021-06-12T09:35:17.606333Z",
     "shell.execute_reply": "2021-06-12T09:35:17.606783Z",
     "shell.execute_reply.started": "2021-06-12T09:26:39.562349Z"
    },
    "papermill": {
     "duration": 0.03824,
     "end_time": "2021-06-12T09:35:17.606951",
     "exception": false,
     "start_time": "2021-06-12T09:35:17.568711",
     "status": "completed"
    },
    "tags": []
   },
   "outputs": [],
   "source": [
    "test['Age'].fillna(value = test['Age'].median(),inplace = True)"
   ]
  },
  {
   "cell_type": "code",
   "execution_count": null,
   "id": "skilled-spanking",
   "metadata": {
    "papermill": {
     "duration": 0.031593,
     "end_time": "2021-06-12T09:35:17.667525",
     "exception": false,
     "start_time": "2021-06-12T09:35:17.635932",
     "status": "completed"
    },
    "tags": []
   },
   "outputs": [],
   "source": []
  },
  {
   "cell_type": "code",
   "execution_count": 7,
   "id": "excessive-curve",
   "metadata": {
    "execution": {
     "iopub.execute_input": "2021-06-12T09:35:17.729252Z",
     "iopub.status.busy": "2021-06-12T09:35:17.728594Z",
     "iopub.status.idle": "2021-06-12T09:35:17.736165Z",
     "shell.execute_reply": "2021-06-12T09:35:17.736699Z",
     "shell.execute_reply.started": "2021-06-12T09:26:39.591179Z"
    },
    "papermill": {
     "duration": 0.040151,
     "end_time": "2021-06-12T09:35:17.736886",
     "exception": false,
     "start_time": "2021-06-12T09:35:17.696735",
     "status": "completed"
    },
    "tags": []
   },
   "outputs": [
    {
     "data": {
      "text/plain": [
       "PassengerId      0\n",
       "Pclass           0\n",
       "Name             0\n",
       "Sex              0\n",
       "Age              0\n",
       "SibSp            0\n",
       "Parch            0\n",
       "Ticket           0\n",
       "Fare             1\n",
       "Cabin          327\n",
       "Embarked         0\n",
       "dtype: int64"
      ]
     },
     "execution_count": 7,
     "metadata": {},
     "output_type": "execute_result"
    }
   ],
   "source": [
    "test.isna().sum()"
   ]
  },
  {
   "cell_type": "markdown",
   "id": "religious-wheel",
   "metadata": {
    "papermill": {
     "duration": 0.029301,
     "end_time": "2021-06-12T09:35:17.795924",
     "exception": false,
     "start_time": "2021-06-12T09:35:17.766623",
     "status": "completed"
    },
    "tags": []
   },
   "source": [
    "**get the class of the person of nan value in fare**"
   ]
  },
  {
   "cell_type": "code",
   "execution_count": 8,
   "id": "absent-gazette",
   "metadata": {
    "execution": {
     "iopub.execute_input": "2021-06-12T09:35:17.858614Z",
     "iopub.status.busy": "2021-06-12T09:35:17.857927Z",
     "iopub.status.idle": "2021-06-12T09:35:17.884181Z",
     "shell.execute_reply": "2021-06-12T09:35:17.883345Z",
     "shell.execute_reply.started": "2021-06-12T09:26:39.625566Z"
    },
    "papermill": {
     "duration": 0.058617,
     "end_time": "2021-06-12T09:35:17.884391",
     "exception": false,
     "start_time": "2021-06-12T09:35:17.825774",
     "status": "completed"
    },
    "tags": []
   },
   "outputs": [
    {
     "name": "stdout",
     "output_type": "stream",
     "text": [
      "3\n"
     ]
    }
   ],
   "source": [
    "row_of_data=test.loc[test.Fare.isna()== True]\n",
    "pclass=int(row_of_data['Pclass'])\n",
    "print(pclass)"
   ]
  },
  {
   "cell_type": "markdown",
   "id": "corresponding-keeping",
   "metadata": {
    "papermill": {
     "duration": 0.029669,
     "end_time": "2021-06-12T09:35:17.944747",
     "exception": false,
     "start_time": "2021-06-12T09:35:17.915078",
     "status": "completed"
    },
    "tags": []
   },
   "source": [
    "**fill the fare nan value**"
   ]
  },
  {
   "cell_type": "code",
   "execution_count": 9,
   "id": "employed-norwegian",
   "metadata": {
    "execution": {
     "iopub.execute_input": "2021-06-12T09:35:18.013794Z",
     "iopub.status.busy": "2021-06-12T09:35:18.013096Z",
     "iopub.status.idle": "2021-06-12T09:35:18.016397Z",
     "shell.execute_reply": "2021-06-12T09:35:18.015738Z",
     "shell.execute_reply.started": "2021-06-12T09:26:39.659629Z"
    },
    "papermill": {
     "duration": 0.041022,
     "end_time": "2021-06-12T09:35:18.016533",
     "exception": false,
     "start_time": "2021-06-12T09:35:17.975511",
     "status": "completed"
    },
    "tags": []
   },
   "outputs": [],
   "source": [
    "fare_replace = test.loc[test.Pclass == 3].Fare.median()\n",
    "test['Fare'].fillna(value = fare_replace,inplace = True)\n"
   ]
  },
  {
   "cell_type": "markdown",
   "id": "incomplete-description",
   "metadata": {
    "papermill": {
     "duration": 0.029763,
     "end_time": "2021-06-12T09:35:18.076596",
     "exception": false,
     "start_time": "2021-06-12T09:35:18.046833",
     "status": "completed"
    },
    "tags": []
   },
   "source": [
    "**split the train data into x,y**"
   ]
  },
  {
   "cell_type": "code",
   "execution_count": 10,
   "id": "focal-allocation",
   "metadata": {
    "execution": {
     "iopub.execute_input": "2021-06-12T09:35:18.145295Z",
     "iopub.status.busy": "2021-06-12T09:35:18.144559Z",
     "iopub.status.idle": "2021-06-12T09:35:18.148768Z",
     "shell.execute_reply": "2021-06-12T09:35:18.148060Z",
     "shell.execute_reply.started": "2021-06-12T09:26:39.69319Z"
    },
    "papermill": {
     "duration": 0.041277,
     "end_time": "2021-06-12T09:35:18.148907",
     "exception": false,
     "start_time": "2021-06-12T09:35:18.107630",
     "status": "completed"
    },
    "tags": []
   },
   "outputs": [],
   "source": [
    "y = data.iloc[:, 1].values\n",
    "x = data.iloc[:,data.columns != 'Survived' ].values"
   ]
  },
  {
   "cell_type": "markdown",
   "id": "talented-nutrition",
   "metadata": {
    "papermill": {
     "duration": 0.029922,
     "end_time": "2021-06-12T09:35:18.208813",
     "exception": false,
     "start_time": "2021-06-12T09:35:18.178891",
     "status": "completed"
    },
    "tags": []
   },
   "source": []
  },
  {
   "cell_type": "code",
   "execution_count": 11,
   "id": "vocational-poison",
   "metadata": {
    "execution": {
     "iopub.execute_input": "2021-06-12T09:35:18.275989Z",
     "iopub.status.busy": "2021-06-12T09:35:18.275304Z",
     "iopub.status.idle": "2021-06-12T09:35:18.279271Z",
     "shell.execute_reply": "2021-06-12T09:35:18.278727Z",
     "shell.execute_reply.started": "2021-06-12T09:26:39.735549Z"
    },
    "papermill": {
     "duration": 0.040338,
     "end_time": "2021-06-12T09:35:18.279410",
     "exception": false,
     "start_time": "2021-06-12T09:35:18.239072",
     "status": "completed"
    },
    "tags": []
   },
   "outputs": [],
   "source": [
    "# the variables names\n",
    "variables = ['PassengerId','Pclass', 'Name', 'Sex', 'Age', 'SibSp',\n",
    "       'Parch', 'Ticket', 'Fare', 'Cabin', 'Embarked']\n",
    "\n",
    "\n",
    "# convert x into dataframe\n",
    "x  = pd.DataFrame(x, columns = variables)\n",
    "\n",
    "# convert test data into dataframe\n",
    "test  = pd.DataFrame(test, columns = variables)"
   ]
  },
  {
   "cell_type": "markdown",
   "id": "dirty-starter",
   "metadata": {
    "papermill": {
     "duration": 0.02979,
     "end_time": "2021-06-12T09:35:18.339413",
     "exception": false,
     "start_time": "2021-06-12T09:35:18.309623",
     "status": "completed"
    },
    "tags": []
   },
   "source": [
    "**drop the unnescessary columns**"
   ]
  },
  {
   "cell_type": "code",
   "execution_count": 12,
   "id": "relevant-transport",
   "metadata": {
    "execution": {
     "iopub.execute_input": "2021-06-12T09:35:18.406936Z",
     "iopub.status.busy": "2021-06-12T09:35:18.406278Z",
     "iopub.status.idle": "2021-06-12T09:35:18.409149Z",
     "shell.execute_reply": "2021-06-12T09:35:18.408580Z",
     "shell.execute_reply.started": "2021-06-12T09:26:39.769791Z"
    },
    "papermill": {
     "duration": 0.039839,
     "end_time": "2021-06-12T09:35:18.409286",
     "exception": false,
     "start_time": "2021-06-12T09:35:18.369447",
     "status": "completed"
    },
    "tags": []
   },
   "outputs": [],
   "source": [
    "# drop the non useful columns from train data \n",
    "x=x.drop(['Name','Cabin','Ticket','PassengerId'], axis = 1)\n",
    "x=x.drop(['Embarked'], axis = 1)"
   ]
  },
  {
   "cell_type": "code",
   "execution_count": 13,
   "id": "promotional-latex",
   "metadata": {
    "execution": {
     "iopub.execute_input": "2021-06-12T09:35:18.477736Z",
     "iopub.status.busy": "2021-06-12T09:35:18.477081Z",
     "iopub.status.idle": "2021-06-12T09:35:18.480691Z",
     "shell.execute_reply": "2021-06-12T09:35:18.480033Z",
     "shell.execute_reply.started": "2021-06-12T09:26:39.810249Z"
    },
    "papermill": {
     "duration": 0.041363,
     "end_time": "2021-06-12T09:35:18.480830",
     "exception": false,
     "start_time": "2021-06-12T09:35:18.439467",
     "status": "completed"
    },
    "tags": []
   },
   "outputs": [],
   "source": [
    "\n",
    "# drop the non useful columns from test data also\n",
    "test=test.drop(['Name','Cabin','Ticket','Embarked'], axis = 1)\n",
    "passengerid=test.iloc[:,0]\n",
    "test=test.drop(['PassengerId'], axis = 1)"
   ]
  },
  {
   "cell_type": "markdown",
   "id": "healthy-amino",
   "metadata": {
    "papermill": {
     "duration": 0.030648,
     "end_time": "2021-06-12T09:35:18.541577",
     "exception": false,
     "start_time": "2021-06-12T09:35:18.510929",
     "status": "completed"
    },
    "tags": []
   },
   "source": [
    "**encode male=1 , female=0 in both test and train data**"
   ]
  },
  {
   "cell_type": "code",
   "execution_count": 14,
   "id": "golden-bolivia",
   "metadata": {
    "execution": {
     "iopub.execute_input": "2021-06-12T09:35:18.611767Z",
     "iopub.status.busy": "2021-06-12T09:35:18.611085Z",
     "iopub.status.idle": "2021-06-12T09:35:18.613718Z",
     "shell.execute_reply": "2021-06-12T09:35:18.614230Z",
     "shell.execute_reply.started": "2021-06-12T09:26:39.848001Z"
    },
    "papermill": {
     "duration": 0.042689,
     "end_time": "2021-06-12T09:35:18.614418",
     "exception": false,
     "start_time": "2021-06-12T09:35:18.571729",
     "status": "completed"
    },
    "tags": []
   },
   "outputs": [],
   "source": [
    "x['Sex'].replace(to_replace='male',value=1,inplace=True)\n",
    "x['Sex'].replace(to_replace='female',value=0,inplace=True)\n",
    "test['Sex'].replace(to_replace='male',value=1,inplace=True)\n",
    "test['Sex'].replace(to_replace='female',value=0,inplace=True)"
   ]
  },
  {
   "cell_type": "markdown",
   "id": "solar-workstation",
   "metadata": {
    "papermill": {
     "duration": 0.035889,
     "end_time": "2021-06-12T09:35:18.681140",
     "exception": false,
     "start_time": "2021-06-12T09:35:18.645251",
     "status": "completed"
    },
    "tags": []
   },
   "source": [
    "**nitiate the random forrest regression  model  and fit it to the train data**"
   ]
  },
  {
   "cell_type": "code",
   "execution_count": null,
   "id": "endangered-biography",
   "metadata": {
    "papermill": {
     "duration": 0.039247,
     "end_time": "2021-06-12T09:35:18.761927",
     "exception": false,
     "start_time": "2021-06-12T09:35:18.722680",
     "status": "completed"
    },
    "tags": []
   },
   "outputs": [],
   "source": []
  },
  {
   "cell_type": "markdown",
   "id": "approved-paint",
   "metadata": {
    "papermill": {
     "duration": 0.029526,
     "end_time": "2021-06-12T09:35:18.824390",
     "exception": false,
     "start_time": "2021-06-12T09:35:18.794864",
     "status": "completed"
    },
    "tags": []
   },
   "source": [
    "\n",
    "\n",
    "**split the data for testing the model befor applying it on the real test data**"
   ]
  },
  {
   "cell_type": "code",
   "execution_count": 15,
   "id": "covered-offset",
   "metadata": {
    "execution": {
     "iopub.execute_input": "2021-06-12T09:35:18.887272Z",
     "iopub.status.busy": "2021-06-12T09:35:18.886639Z",
     "iopub.status.idle": "2021-06-12T09:35:19.892145Z",
     "shell.execute_reply": "2021-06-12T09:35:19.891590Z",
     "shell.execute_reply.started": "2021-06-12T09:26:41.769726Z"
    },
    "papermill": {
     "duration": 1.03805,
     "end_time": "2021-06-12T09:35:19.892294",
     "exception": false,
     "start_time": "2021-06-12T09:35:18.854244",
     "status": "completed"
    },
    "tags": []
   },
   "outputs": [],
   "source": [
    "from sklearn.model_selection import train_test_split\n",
    "x_train, x_test, y_train, y_test = train_test_split(x, y, test_size=0.2, random_state=42)"
   ]
  },
  {
   "cell_type": "code",
   "execution_count": null,
   "id": "other-islam",
   "metadata": {
    "papermill": {
     "duration": 0.029811,
     "end_time": "2021-06-12T09:35:19.952239",
     "exception": false,
     "start_time": "2021-06-12T09:35:19.922428",
     "status": "completed"
    },
    "tags": []
   },
   "outputs": [],
   "source": []
  },
  {
   "cell_type": "markdown",
   "id": "ready-skiing",
   "metadata": {
    "papermill": {
     "duration": 0.030223,
     "end_time": "2021-06-12T09:35:20.012620",
     "exception": false,
     "start_time": "2021-06-12T09:35:19.982397",
     "status": "completed"
    },
    "tags": []
   },
   "source": [
    "# model bulding"
   ]
  },
  {
   "cell_type": "code",
   "execution_count": 16,
   "id": "russian-mining",
   "metadata": {
    "execution": {
     "iopub.execute_input": "2021-06-12T09:35:20.078482Z",
     "iopub.status.busy": "2021-06-12T09:35:20.077778Z",
     "iopub.status.idle": "2021-06-12T09:35:23.729698Z",
     "shell.execute_reply": "2021-06-12T09:35:23.729211Z",
     "shell.execute_reply.started": "2021-06-12T09:26:41.776878Z"
    },
    "papermill": {
     "duration": 3.686883,
     "end_time": "2021-06-12T09:35:23.729832",
     "exception": false,
     "start_time": "2021-06-12T09:35:20.042949",
     "status": "completed"
    },
    "tags": []
   },
   "outputs": [
    {
     "data": {
      "text/plain": [
       "RandomForestClassifier(max_depth=10, min_samples_leaf=6, min_samples_split=6,\n",
       "                       n_estimators=1750)"
      ]
     },
     "execution_count": 16,
     "metadata": {},
     "output_type": "execute_result"
    }
   ],
   "source": [
    "\n",
    "\n",
    "from sklearn.ensemble import RandomForestClassifier\n",
    "classifier = RandomForestClassifier(max_depth=10, min_samples_leaf=6, min_samples_split=6,n_estimators=1750)\n",
    "classifier.fit(x_train, y_train)"
   ]
  },
  {
   "cell_type": "markdown",
   "id": "living-soundtrack",
   "metadata": {
    "papermill": {
     "duration": 0.030162,
     "end_time": "2021-06-12T09:35:23.790381",
     "exception": false,
     "start_time": "2021-06-12T09:35:23.760219",
     "status": "completed"
    },
    "tags": []
   },
   "source": [
    "# model evaluation"
   ]
  },
  {
   "cell_type": "markdown",
   "id": "advisory-number",
   "metadata": {
    "papermill": {
     "duration": 0.029925,
     "end_time": "2021-06-12T09:35:23.850868",
     "exception": false,
     "start_time": "2021-06-12T09:35:23.820943",
     "status": "completed"
    },
    "tags": []
   },
   "source": [
    "**evaluate the accuracy of the model with predicting test data we have from spliting**"
   ]
  },
  {
   "cell_type": "code",
   "execution_count": 17,
   "id": "middle-dodge",
   "metadata": {
    "execution": {
     "iopub.execute_input": "2021-06-12T09:35:23.914247Z",
     "iopub.status.busy": "2021-06-12T09:35:23.913540Z",
     "iopub.status.idle": "2021-06-12T09:35:24.130563Z",
     "shell.execute_reply": "2021-06-12T09:35:24.129979Z",
     "shell.execute_reply.started": "2021-06-12T09:26:44.386515Z"
    },
    "papermill": {
     "duration": 0.249404,
     "end_time": "2021-06-12T09:35:24.130704",
     "exception": false,
     "start_time": "2021-06-12T09:35:23.881300",
     "status": "completed"
    },
    "tags": []
   },
   "outputs": [
    {
     "name": "stdout",
     "output_type": "stream",
     "text": [
      "[[94 11]\n",
      " [26 48]]\n"
     ]
    },
    {
     "data": {
      "text/plain": [
       "0.7932960893854749"
      ]
     },
     "execution_count": 17,
     "metadata": {},
     "output_type": "execute_result"
    }
   ],
   "source": [
    "y_test_pred = classifier.predict(x_test)\n",
    "\n",
    "from sklearn.metrics import confusion_matrix, accuracy_score\n",
    "cm = confusion_matrix(y_test, y_test_pred)\n",
    "print(cm)\n",
    "accuracy_score(y_test, y_test_pred)"
   ]
  },
  {
   "cell_type": "markdown",
   "id": "pointed-simple",
   "metadata": {
    "papermill": {
     "duration": 0.031687,
     "end_time": "2021-06-12T09:35:24.193111",
     "exception": false,
     "start_time": "2021-06-12T09:35:24.161424",
     "status": "completed"
    },
    "tags": []
   },
   "source": [
    "**predict the (survive) column  for kaggle test data**"
   ]
  },
  {
   "cell_type": "code",
   "execution_count": 18,
   "id": "arranged-ranking",
   "metadata": {
    "execution": {
     "iopub.execute_input": "2021-06-12T09:35:24.262269Z",
     "iopub.status.busy": "2021-06-12T09:35:24.261596Z",
     "iopub.status.idle": "2021-06-12T09:35:24.609066Z",
     "shell.execute_reply": "2021-06-12T09:35:24.608480Z",
     "shell.execute_reply.started": "2021-06-12T09:26:44.576227Z"
    },
    "papermill": {
     "duration": 0.385407,
     "end_time": "2021-06-12T09:35:24.609215",
     "exception": false,
     "start_time": "2021-06-12T09:35:24.223808",
     "status": "completed"
    },
    "tags": []
   },
   "outputs": [],
   "source": [
    " \n",
    "y_pred = classifier.predict(test)"
   ]
  },
  {
   "cell_type": "markdown",
   "id": "treated-tsunami",
   "metadata": {
    "papermill": {
     "duration": 0.031381,
     "end_time": "2021-06-12T09:35:24.671308",
     "exception": false,
     "start_time": "2021-06-12T09:35:24.639927",
     "status": "completed"
    },
    "tags": []
   },
   "source": [
    "**make a dataframe and add 2 columns : passenger id , survived (predicted)**"
   ]
  },
  {
   "cell_type": "code",
   "execution_count": 19,
   "id": "surprising-liberal",
   "metadata": {
    "execution": {
     "iopub.execute_input": "2021-06-12T09:35:24.740295Z",
     "iopub.status.busy": "2021-06-12T09:35:24.739634Z",
     "iopub.status.idle": "2021-06-12T09:35:24.742342Z",
     "shell.execute_reply": "2021-06-12T09:35:24.742795Z",
     "shell.execute_reply.started": "2021-06-12T09:26:44.803986Z"
    },
    "papermill": {
     "duration": 0.040758,
     "end_time": "2021-06-12T09:35:24.742982",
     "exception": false,
     "start_time": "2021-06-12T09:35:24.702224",
     "status": "completed"
    },
    "tags": []
   },
   "outputs": [],
   "source": [
    "\n",
    "predections = pd.DataFrame()\n",
    "predections['PassengerId']=passengerid\n",
    "predections['Survived']=y_pred"
   ]
  },
  {
   "cell_type": "markdown",
   "id": "arranged-vertical",
   "metadata": {
    "papermill": {
     "duration": 0.030665,
     "end_time": "2021-06-12T09:35:24.805089",
     "exception": false,
     "start_time": "2021-06-12T09:35:24.774424",
     "status": "completed"
    },
    "tags": []
   },
   "source": [
    "**save it to csv**\n"
   ]
  },
  {
   "cell_type": "code",
   "execution_count": 20,
   "id": "norman-sugar",
   "metadata": {
    "execution": {
     "iopub.execute_input": "2021-06-12T09:35:24.871809Z",
     "iopub.status.busy": "2021-06-12T09:35:24.871163Z",
     "iopub.status.idle": "2021-06-12T09:35:24.877006Z",
     "shell.execute_reply": "2021-06-12T09:35:24.877479Z",
     "shell.execute_reply.started": "2021-06-12T09:26:44.812749Z"
    },
    "papermill": {
     "duration": 0.04154,
     "end_time": "2021-06-12T09:35:24.877660",
     "exception": false,
     "start_time": "2021-06-12T09:35:24.836120",
     "status": "completed"
    },
    "tags": []
   },
   "outputs": [],
   "source": [
    "predections.to_csv(\"pedictions.csv\",index= False)"
   ]
  },
  {
   "cell_type": "markdown",
   "id": "pointed-welsh",
   "metadata": {
    "papermill": {
     "duration": 0.030551,
     "end_time": "2021-06-12T09:35:24.939290",
     "exception": false,
     "start_time": "2021-06-12T09:35:24.908739",
     "status": "completed"
    },
    "tags": []
   },
   "source": []
  }
 ],
 "metadata": {
  "kernelspec": {
   "display_name": "Python 3",
   "language": "python",
   "name": "python3"
  },
  "language_info": {
   "codemirror_mode": {
    "name": "ipython",
    "version": 3
   },
   "file_extension": ".py",
   "mimetype": "text/x-python",
   "name": "python",
   "nbconvert_exporter": "python",
   "pygments_lexer": "ipython3",
   "version": "3.7.10"
  },
  "papermill": {
   "default_parameters": {},
   "duration": 17.94835,
   "end_time": "2021-06-12T09:35:26.670569",
   "environment_variables": {},
   "exception": null,
   "input_path": "__notebook__.ipynb",
   "output_path": "__notebook__.ipynb",
   "parameters": {},
   "start_time": "2021-06-12T09:35:08.722219",
   "version": "2.3.3"
  }
 },
 "nbformat": 4,
 "nbformat_minor": 5
}
